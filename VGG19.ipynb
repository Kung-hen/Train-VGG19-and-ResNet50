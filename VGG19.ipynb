{
  "cells": [
    {
      "cell_type": "markdown",
      "metadata": {
        "id": "t_lKSCoqLnWy"
      },
      "source": [
        "## Import"
      ]
    },
    {
      "cell_type": "code",
      "execution_count": 1,
      "metadata": {
        "id": "qZQrvj_5r0Ec"
      },
      "outputs": [],
      "source": [
        "import torch\n",
        "from torch import nn\n",
        "from torch import optim\n",
        "from torch.utils.data import DataLoader\n",
        "from torchvision import datasets, transforms, models\n",
        "from torchvision.transforms import ToTensor\n",
        "import matplotlib.pyplot as plt"
      ]
    },
    {
      "cell_type": "markdown",
      "metadata": {
        "id": "9uFhc6WnLvyW"
      },
      "source": [
        "## Data Preprocessing"
      ]
    },
    {
      "cell_type": "code",
      "execution_count": 2,
      "metadata": {
        "id": "80IXlrNVP1eO"
      },
      "outputs": [],
      "source": [
        "train = datasets.MNIST(\n",
        "    root='data',\n",
        "    train=True,\n",
        "    download=True,\n",
        "    transform=ToTensor()\n",
        ")\n",
        "\n",
        "test = datasets.MNIST(\n",
        "    root='data',\n",
        "    train=False,\n",
        "    download=True,\n",
        "    transform=ToTensor()\n",
        ")"
      ]
    },
    {
      "cell_type": "code",
      "execution_count": 3,
      "metadata": {
        "colab": {
          "base_uri": "https://localhost:8080/",
          "height": 35
        },
        "id": "TJ5IhqzjTn2U",
        "outputId": "463f336d-cdd9-4252-f408-dc82dd8d6534"
      },
      "outputs": [
        {
          "data": {
            "application/vnd.google.colaboratory.intrinsic+json": {
              "type": "string"
            },
            "text/plain": [
              "'cuda'"
            ]
          },
          "execution_count": 3,
          "metadata": {},
          "output_type": "execute_result"
        }
      ],
      "source": [
        "device = 'cuda' if torch.cuda.is_available() else 'cpu'\n",
        "device"
      ]
    },
    {
      "cell_type": "code",
      "execution_count": 4,
      "metadata": {
        "id": "DPfXz7DUVlZ4"
      },
      "outputs": [],
      "source": [
        "# train.data.float().mean()/255.0, train.data.float().std() /255.0\n",
        "# test.data.float().mean()/255.0, test.data.float().std() /255.0"
      ]
    },
    {
      "cell_type": "code",
      "execution_count": 5,
      "metadata": {
        "id": "eDF6Ok6FWAnK"
      },
      "outputs": [],
      "source": [
        "train_trans = transforms.Compose([\n",
        "    transforms.Resize((32, 32)),\n",
        "    transforms.RandomRotation(45),\n",
        "    transforms.Grayscale(num_output_channels=3),\n",
        "    ToTensor(),\n",
        "    transforms.Normalize((0.1307,), (0.3181,))\n",
        "])\n",
        "\n",
        "test_trans = transforms.Compose([\n",
        "    transforms.Resize((32, 32)),\n",
        "    transforms.Grayscale(num_output_channels=3),\n",
        "    ToTensor(),\n",
        "    transforms.Normalize((0.1325,), (0.3105,))\n",
        "])\n",
        "\n",
        "train = datasets.MNIST(\n",
        "    root='data',\n",
        "    train=True,\n",
        "    download=False,\n",
        "    transform=train_trans\n",
        ")\n",
        "\n",
        "test = datasets.MNIST(\n",
        "    root='data',\n",
        "    train=False,\n",
        "    download=False,\n",
        "    transform=test_trans\n",
        ")"
      ]
    },
    {
      "cell_type": "markdown",
      "metadata": {
        "id": "rLZ034yeL1pe"
      },
      "source": [
        "## Parameters"
      ]
    },
    {
      "cell_type": "code",
      "execution_count": 6,
      "metadata": {
        "id": "vODksQtl55cA"
      },
      "outputs": [],
      "source": [
        "batch_size = 256\n",
        "learning_rate = 0.0001\n",
        "epochs = 30\n",
        "\n",
        "trainloader = DataLoader(dataset=train, batch_size=batch_size, shuffle=True)\n",
        "testloader = DataLoader(dataset=test, batch_size=batch_size, shuffle=True)"
      ]
    },
    {
      "cell_type": "code",
      "execution_count": 9,
      "metadata": {
        "id": "wavjJfa4-D9O"
      },
      "outputs": [],
      "source": [
        "model = models.vgg19_bn(num_classes=10, weights=None)\n",
        "# model.features[0] = nn.Conv2d(1, 64, kernel_size=3, padding=1)\n",
        "model = model.to(device)"
      ]
    },
    {
      "cell_type": "code",
      "execution_count": 10,
      "metadata": {
        "colab": {
          "base_uri": "https://localhost:8080/"
        },
        "id": "8GfNpBHL-z4c",
        "outputId": "ba0f8c36-b50b-42c2-9d70-38912ed257a7"
      },
      "outputs": [
        {
          "name": "stdout",
          "output_type": "stream",
          "text": [
            "----------------------------------------------------------------\n",
            "        Layer (type)               Output Shape         Param #\n",
            "================================================================\n",
            "            Conv2d-1           [-1, 64, 32, 32]           1,792\n",
            "       BatchNorm2d-2           [-1, 64, 32, 32]             128\n",
            "              ReLU-3           [-1, 64, 32, 32]               0\n",
            "            Conv2d-4           [-1, 64, 32, 32]          36,928\n",
            "       BatchNorm2d-5           [-1, 64, 32, 32]             128\n",
            "              ReLU-6           [-1, 64, 32, 32]               0\n",
            "         MaxPool2d-7           [-1, 64, 16, 16]               0\n",
            "            Conv2d-8          [-1, 128, 16, 16]          73,856\n",
            "       BatchNorm2d-9          [-1, 128, 16, 16]             256\n",
            "             ReLU-10          [-1, 128, 16, 16]               0\n",
            "           Conv2d-11          [-1, 128, 16, 16]         147,584\n",
            "      BatchNorm2d-12          [-1, 128, 16, 16]             256\n",
            "             ReLU-13          [-1, 128, 16, 16]               0\n",
            "        MaxPool2d-14            [-1, 128, 8, 8]               0\n",
            "           Conv2d-15            [-1, 256, 8, 8]         295,168\n",
            "      BatchNorm2d-16            [-1, 256, 8, 8]             512\n",
            "             ReLU-17            [-1, 256, 8, 8]               0\n",
            "           Conv2d-18            [-1, 256, 8, 8]         590,080\n",
            "      BatchNorm2d-19            [-1, 256, 8, 8]             512\n",
            "             ReLU-20            [-1, 256, 8, 8]               0\n",
            "           Conv2d-21            [-1, 256, 8, 8]         590,080\n",
            "      BatchNorm2d-22            [-1, 256, 8, 8]             512\n",
            "             ReLU-23            [-1, 256, 8, 8]               0\n",
            "           Conv2d-24            [-1, 256, 8, 8]         590,080\n",
            "      BatchNorm2d-25            [-1, 256, 8, 8]             512\n",
            "             ReLU-26            [-1, 256, 8, 8]               0\n",
            "        MaxPool2d-27            [-1, 256, 4, 4]               0\n",
            "           Conv2d-28            [-1, 512, 4, 4]       1,180,160\n",
            "      BatchNorm2d-29            [-1, 512, 4, 4]           1,024\n",
            "             ReLU-30            [-1, 512, 4, 4]               0\n",
            "           Conv2d-31            [-1, 512, 4, 4]       2,359,808\n",
            "      BatchNorm2d-32            [-1, 512, 4, 4]           1,024\n",
            "             ReLU-33            [-1, 512, 4, 4]               0\n",
            "           Conv2d-34            [-1, 512, 4, 4]       2,359,808\n",
            "      BatchNorm2d-35            [-1, 512, 4, 4]           1,024\n",
            "             ReLU-36            [-1, 512, 4, 4]               0\n",
            "           Conv2d-37            [-1, 512, 4, 4]       2,359,808\n",
            "      BatchNorm2d-38            [-1, 512, 4, 4]           1,024\n",
            "             ReLU-39            [-1, 512, 4, 4]               0\n",
            "        MaxPool2d-40            [-1, 512, 2, 2]               0\n",
            "           Conv2d-41            [-1, 512, 2, 2]       2,359,808\n",
            "      BatchNorm2d-42            [-1, 512, 2, 2]           1,024\n",
            "             ReLU-43            [-1, 512, 2, 2]               0\n",
            "           Conv2d-44            [-1, 512, 2, 2]       2,359,808\n",
            "      BatchNorm2d-45            [-1, 512, 2, 2]           1,024\n",
            "             ReLU-46            [-1, 512, 2, 2]               0\n",
            "           Conv2d-47            [-1, 512, 2, 2]       2,359,808\n",
            "      BatchNorm2d-48            [-1, 512, 2, 2]           1,024\n",
            "             ReLU-49            [-1, 512, 2, 2]               0\n",
            "           Conv2d-50            [-1, 512, 2, 2]       2,359,808\n",
            "      BatchNorm2d-51            [-1, 512, 2, 2]           1,024\n",
            "             ReLU-52            [-1, 512, 2, 2]               0\n",
            "        MaxPool2d-53            [-1, 512, 1, 1]               0\n",
            "AdaptiveAvgPool2d-54            [-1, 512, 7, 7]               0\n",
            "           Linear-55                 [-1, 4096]     102,764,544\n",
            "             ReLU-56                 [-1, 4096]               0\n",
            "          Dropout-57                 [-1, 4096]               0\n",
            "           Linear-58                 [-1, 4096]      16,781,312\n",
            "             ReLU-59                 [-1, 4096]               0\n",
            "          Dropout-60                 [-1, 4096]               0\n",
            "           Linear-61                   [-1, 10]          40,970\n",
            "================================================================\n",
            "Total params: 139,622,218\n",
            "Trainable params: 139,622,218\n",
            "Non-trainable params: 0\n",
            "----------------------------------------------------------------\n",
            "Input size (MB): 0.01\n",
            "Forward/backward pass size (MB): 7.55\n",
            "Params size (MB): 532.62\n",
            "Estimated Total Size (MB): 540.18\n",
            "----------------------------------------------------------------\n"
          ]
        }
      ],
      "source": [
        "from torchsummary import summary\n",
        "summary(model, input_size=(3, 32, 32))"
      ]
    },
    {
      "cell_type": "code",
      "execution_count": 11,
      "metadata": {
        "id": "INTP9WPt_Gyp"
      },
      "outputs": [],
      "source": [
        "criterion = nn.CrossEntropyLoss()\n",
        "criterion = criterion.to(device)\n",
        "optimizer = optim.Adam(model.parameters(), lr=learning_rate)"
      ]
    },
    {
      "cell_type": "markdown",
      "metadata": {
        "id": "iMPPZXQ3_sCC"
      },
      "source": [
        "## Training"
      ]
    },
    {
      "cell_type": "code",
      "execution_count": 12,
      "metadata": {
        "id": "IP4LeO0f_lT4"
      },
      "outputs": [],
      "source": [
        "def train(net, trainloader, validloader, criterion, optimizer, num_epochs):\n",
        "    net.train()\n",
        "\n",
        "    train_losses = []  # To store training losses\n",
        "    valid_losses = []  # To store validation losses\n",
        "    train_accuracies = []  # To store training accuracies\n",
        "    valid_accuracies = []  # To store validation accuracies\n",
        "\n",
        "    for epoch in range(num_epochs):\n",
        "        net.train()\n",
        "        running_loss = 0.0\n",
        "        correct_train = 0\n",
        "        total_train = 0\n",
        "\n",
        "        # Training loop\n",
        "        for inputs, labels in trainloader:\n",
        "          inputs, labels = inputs.to(device), labels.to(device)\n",
        "          optimizer.zero_grad()\n",
        "          outputs = model(inputs)\n",
        "          loss = criterion(outputs, labels)\n",
        "          loss.backward()\n",
        "          optimizer.step()\n",
        "          running_loss += loss.item()\n",
        "\n",
        "          _, predicted = outputs.max(1)\n",
        "          total_train += labels.size(0)\n",
        "          correct_train += predicted.eq(labels).sum().item()\n",
        "\n",
        "        average_train_loss = running_loss / len(trainloader)\n",
        "        train_losses.append(average_train_loss)\n",
        "        training_accuracy = 100 * correct_train / total_train\n",
        "        train_accuracies.append(training_accuracy)\n",
        "\n",
        "        # Validation loop\n",
        "        net.eval()  # Set the network to evaluation mode\n",
        "        correct_valid = 0\n",
        "        total_valid = 0\n",
        "        valid_loss = 0.0\n",
        "\n",
        "        with torch.no_grad():\n",
        "          for inputs, labels in testloader:\n",
        "            inputs, labels = inputs.to(device), labels.to(device)\n",
        "\n",
        "            outputs = model(inputs)\n",
        "            loss = criterion(outputs, labels)\n",
        "\n",
        "            running_loss += loss.item()\n",
        "\n",
        "            _, predicted = outputs.max(1)\n",
        "            total_valid += labels.size(0)\n",
        "            correct_valid += predicted.eq(labels).sum().item()\n",
        "\n",
        "        average_val_loss = running_loss / len(testloader)\n",
        "        valid_losses.append(average_val_loss)\n",
        "        validation_accuracy = 100 * correct_valid / total_valid\n",
        "        valid_accuracies.append(validation_accuracy)\n",
        "\n",
        "        print(f'Epoch {epoch + 1}, Training Loss: {train_losses[-1]:.4f}, Training Accuracy: {training_accuracy:.2f}%, Validation Loss: {valid_losses[-1]:.4f}, Validation Accuracy: {validation_accuracy:.2f}%')\n",
        "\n",
        "    print('Finished Training')\n",
        "\n",
        "    # Plot training and validation loss\n",
        "    plt.figure(figsize=(10, 5))\n",
        "    plt.subplot(1, 2, 1)\n",
        "    plt.plot(train_losses, label='Training Loss')\n",
        "    plt.plot(valid_losses, label='Validation Loss')\n",
        "    plt.xlabel('Epoch')\n",
        "    plt.ylabel('Loss')\n",
        "    plt.legend()\n",
        "    plt.title('Training and Validation Loss')\n",
        "\n",
        "    # Plot training and validation accuracy\n",
        "    plt.subplot(1, 2, 2)\n",
        "    plt.plot(train_accuracies, label='Training Accuracy')\n",
        "    plt.plot(valid_accuracies, label='Validation Accuracy')\n",
        "    plt.xlabel('Epoch')\n",
        "    plt.ylabel('Accuracy (%)')\n",
        "    plt.legend()\n",
        "    plt.title('Training and Validation Accuracy')\n",
        "\n",
        "    plt.tight_layout()\n",
        "    plt.show()"
      ]
    },
    {
      "cell_type": "code",
      "execution_count": 13,
      "metadata": {
        "colab": {
          "base_uri": "https://localhost:8080/",
          "height": 1000
        },
        "id": "s3dpdXMsAPWL",
        "outputId": "acb3efd9-8608-4c3d-ad2b-31a8d74dbf01"
      },
      "outputs": [
        {
          "name": "stdout",
          "output_type": "stream",
          "text": [
            "Epoch 1, Training Loss: 0.6143, Training Accuracy: 80.98%, Validation Loss: 3.7180, Validation Accuracy: 96.75%\n",
            "Epoch 2, Training Loss: 0.1181, Training Accuracy: 96.56%, Validation Loss: 0.7676, Validation Accuracy: 97.72%\n",
            "Epoch 3, Training Loss: 0.0861, Training Accuracy: 97.55%, Validation Loss: 0.5723, Validation Accuracy: 98.20%\n",
            "Epoch 4, Training Loss: 0.0733, Training Accuracy: 97.97%, Validation Loss: 0.4754, Validation Accuracy: 98.56%\n",
            "Epoch 5, Training Loss: 0.0622, Training Accuracy: 98.21%, Validation Loss: 0.4239, Validation Accuracy: 98.38%\n",
            "Epoch 6, Training Loss: 0.0575, Training Accuracy: 98.41%, Validation Loss: 0.3809, Validation Accuracy: 98.73%\n",
            "Epoch 7, Training Loss: 0.0551, Training Accuracy: 98.50%, Validation Loss: 0.3997, Validation Accuracy: 98.00%\n",
            "Epoch 8, Training Loss: 0.0483, Training Accuracy: 98.69%, Validation Loss: 0.3308, Validation Accuracy: 98.73%\n",
            "Epoch 9, Training Loss: 0.0458, Training Accuracy: 98.80%, Validation Loss: 0.3008, Validation Accuracy: 99.04%\n",
            "Epoch 10, Training Loss: 0.0455, Training Accuracy: 98.78%, Validation Loss: 0.3013, Validation Accuracy: 99.06%\n",
            "Epoch 11, Training Loss: 0.0407, Training Accuracy: 98.93%, Validation Loss: 0.2732, Validation Accuracy: 99.07%\n",
            "Epoch 12, Training Loss: 0.0390, Training Accuracy: 98.91%, Validation Loss: 0.2738, Validation Accuracy: 98.93%\n",
            "Epoch 13, Training Loss: 0.0424, Training Accuracy: 98.87%, Validation Loss: 0.2914, Validation Accuracy: 98.98%\n",
            "Epoch 14, Training Loss: 0.0392, Training Accuracy: 98.93%, Validation Loss: 0.2633, Validation Accuracy: 98.91%\n",
            "Epoch 15, Training Loss: 0.0347, Training Accuracy: 99.10%, Validation Loss: 0.2469, Validation Accuracy: 98.94%\n",
            "Epoch 16, Training Loss: 0.0349, Training Accuracy: 99.04%, Validation Loss: 0.2301, Validation Accuracy: 99.25%\n",
            "Epoch 17, Training Loss: 0.0321, Training Accuracy: 99.12%, Validation Loss: 0.2160, Validation Accuracy: 99.22%\n",
            "Epoch 18, Training Loss: 0.0334, Training Accuracy: 99.09%, Validation Loss: 0.2274, Validation Accuracy: 99.24%\n",
            "Epoch 19, Training Loss: 0.0324, Training Accuracy: 99.09%, Validation Loss: 0.2196, Validation Accuracy: 99.16%\n",
            "Epoch 20, Training Loss: 0.0324, Training Accuracy: 99.15%, Validation Loss: 0.2357, Validation Accuracy: 98.92%\n",
            "Epoch 21, Training Loss: 0.0312, Training Accuracy: 99.17%, Validation Loss: 0.2180, Validation Accuracy: 99.11%\n",
            "Epoch 22, Training Loss: 0.0291, Training Accuracy: 99.20%, Validation Loss: 0.2024, Validation Accuracy: 99.07%\n",
            "Epoch 23, Training Loss: 0.0266, Training Accuracy: 99.27%, Validation Loss: 0.1911, Validation Accuracy: 99.08%\n",
            "Epoch 24, Training Loss: 0.0261, Training Accuracy: 99.31%, Validation Loss: 0.1823, Validation Accuracy: 99.14%\n",
            "Epoch 25, Training Loss: 0.0307, Training Accuracy: 99.19%, Validation Loss: 0.2139, Validation Accuracy: 99.08%\n",
            "Epoch 26, Training Loss: 0.0305, Training Accuracy: 99.16%, Validation Loss: 0.2062, Validation Accuracy: 99.34%\n",
            "Epoch 27, Training Loss: 0.0256, Training Accuracy: 99.25%, Validation Loss: 0.1778, Validation Accuracy: 99.32%\n",
            "Epoch 28, Training Loss: 0.0330, Training Accuracy: 99.13%, Validation Loss: 0.2341, Validation Accuracy: 98.99%\n",
            "Epoch 29, Training Loss: 0.0252, Training Accuracy: 99.31%, Validation Loss: 0.1997, Validation Accuracy: 98.57%\n",
            "Epoch 30, Training Loss: 0.0221, Training Accuracy: 99.42%, Validation Loss: 0.1547, Validation Accuracy: 99.39%\n",
            "Finished Training\n"
          ]
        },
        {
          "data": {
            "image/png": "[encoded data removed]",
            "text/plain": [
              "<Figure size 1000x500 with 2 Axes>"
            ]
          },
          "metadata": {},
          "output_type": "display_data"
        }
      ],
      "source": [
        "train(model, trainloader, testloader, criterion, optimizer, epochs)"
      ]
    },
    {
      "cell_type": "code",
      "execution_count": 1,
      "metadata": {
        "colab": {
          "base_uri": "https://localhost:8080/",
          "height": 176
        },
        "id": "Ld8l5vbGAVvG",
        "outputId": "44c58091-daea-4597-bc5d-ca6054af6989"
      },
      "outputs": [
        {
          "ename": "NameError",
          "evalue": "ignored",
          "output_type": "error",
          "traceback": [
            "\u001b[0;31m---------------------------------------------------------------------------\u001b[0m",
            "\u001b[0;31mNameError\u001b[0m                                 Traceback (most recent call last)",
            "\u001b[0;32m<ipython-input-1-c891021ef59d>\u001b[0m in \u001b[0;36m<cell line: 1>\u001b[0;34m()\u001b[0m\n\u001b[0;32m----> 1\u001b[0;31m \u001b[0mtorch\u001b[0m\u001b[0;34m.\u001b[0m\u001b[0msave\u001b[0m\u001b[0;34m(\u001b[0m\u001b[0mmodel\u001b[0m\u001b[0;34m.\u001b[0m\u001b[0mstate_dict\u001b[0m\u001b[0;34m(\u001b[0m\u001b[0;34m)\u001b[0m\u001b[0;34m,\u001b[0m \u001b[0;34m'Cv_Dl_model1.pth'\u001b[0m\u001b[0;34m)\u001b[0m\u001b[0;34m\u001b[0m\u001b[0;34m\u001b[0m\u001b[0m\n\u001b[0m",
            "\u001b[0;31mNameError\u001b[0m: name 'torch' is not defined"
          ]
        }
      ],
      "source": [
        "torch.save(model.state_dict(), 'Cv_Dl_model1.pth')"
      ]
    }
  ],
  "metadata": {
    "accelerator": "GPU",
    "colab": {
      "gpuType": "T4",
      "provenance": []
    },
    "kernelspec": {
      "display_name": "Python 3",
      "name": "python3"
    },
    "language_info": {
      "name": "python",
      "version": "3.8.18"
    }
  },
  "nbformat": 4,
  "nbformat_minor": 0
}
